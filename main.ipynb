{
 "cells": [
  {
   "cell_type": "code",
   "execution_count": 3,
   "metadata": {},
   "outputs": [
    {
     "name": "stdout",
     "output_type": "stream",
     "text": [
      "Jupyter environment detected. Enabling Open3D WebVisualizer.\n",
      "[Open3D INFO] WebRTC GUI backend enabled.\n",
      "[Open3D INFO] WebRTCWindowSystem: HTTP handshake server disabled.\n"
     ]
    }
   ],
   "source": [
    "import torch\n",
    "from torch import nn\n",
    "from torch.utils.data import DataLoader\n",
    "from dataset import get_mn10_data, get_mvtec_data, ADDataset\n",
    "from model import Model, Decoder\n",
    "import numpy as np\n",
    "import argparse\n",
    "from matplotlib import pyplot as plt\n",
    "from utils import chamfer_loss, normalized_mse_loss, get_teacher_features_distr\n",
    "from tqdm import tqdm\n",
    "import time"
   ]
  },
  {
   "cell_type": "code",
   "execution_count": 4,
   "metadata": {},
   "outputs": [],
   "source": [
    "n_points = 16000\n",
    "k = 8\n",
    "batch_size = 1\n",
    "\n",
    "n_teacher_epochs = 250 # 250\n",
    "n_student_epochs = 5\n",
    "\n",
    "mn10_train_data = np.load('data/train_point_clouds.npy')\n",
    "mn10_val_data = np.load('data/val_point_clouds.npy')\n",
    "\n",
    "device = torch.device(\"cuda\" if torch.cuda.is_available() else \"cpu\")"
   ]
  },
  {
   "cell_type": "code",
   "execution_count": 5,
   "metadata": {},
   "outputs": [
    {
     "data": {
      "text/plain": [
       "(500, 16000, 3)"
      ]
     },
     "execution_count": 5,
     "metadata": {},
     "output_type": "execute_result"
    }
   ],
   "source": [
    "mn10_train_data.shape\n",
    "# mn10_val_data.shape\n",
    "# device"
   ]
  },
  {
   "cell_type": "code",
   "execution_count": 6,
   "metadata": {},
   "outputs": [],
   "source": [
    "# Initialize ModelNet10 dataset with normalized point clouds\n",
    "mn10_train_dataset = ADDataset(mn10_train_data, k=k, normalize=True)\n",
    "mn10_val_dataset = ADDataset(mn10_val_data, k=k, normalize=True)\n",
    "\n",
    "mn10_train_loader = DataLoader(mn10_train_dataset, batch_size=batch_size, shuffle=True)\n",
    "mn10_val_loader = DataLoader(mn10_val_dataset, batch_size=batch_size, shuffle=False)"
   ]
  },
  {
   "cell_type": "code",
   "execution_count": 7,
   "metadata": {},
   "outputs": [],
   "source": [
    "teacher = Model(k=k).to(device)\n",
    "decoder = Decoder().to(device)\n",
    "teacher_optimizer = torch.optim.Adam(teacher.parameters(), lr=1e-3, weight_decay=1e-6)"
   ]
  },
  {
   "cell_type": "code",
   "execution_count": 8,
   "metadata": {},
   "outputs": [],
   "source": [
    "torch.cuda.empty_cache()"
   ]
  },
  {
   "cell_type": "code",
   "execution_count": 9,
   "metadata": {},
   "outputs": [
    {
     "name": "stdout",
     "output_type": "stream",
     "text": [
      "Training teacher model\n"
     ]
    },
    {
     "name": "stderr",
     "output_type": "stream",
     "text": [
      "  0%|          | 0/250 [00:00<?, ?it/s]"
     ]
    },
    {
     "name": "stdout",
     "output_type": "stream",
     "text": [
      "Epoch 0, Iteration 0, Loss: 61.67194747924805\n",
      "Epoch 0, Iteration 50, Loss: 7.066737174987793\n",
      "Epoch 0, Iteration 100, Loss: 6.75466775894165\n",
      "Epoch 0, Iteration 150, Loss: 7.449278354644775\n",
      "Epoch 0, Iteration 200, Loss: 8.641826629638672\n",
      "Epoch 0, Iteration 250, Loss: 7.020507335662842\n",
      "Epoch 0, Iteration 300, Loss: 5.304131507873535\n",
      "Epoch 0, Iteration 350, Loss: 7.161528587341309\n",
      "Epoch 0, Iteration 400, Loss: 6.89957857131958\n",
      "Epoch 0, Iteration 450, Loss: 6.792945861816406\n",
      "Epoch 0 time: 796.4292424311861. Loss: 5066.390064954758\n"
     ]
    },
    {
     "name": "stderr",
     "output_type": "stream",
     "text": [
      "  0%|          | 1/250 [13:49<57:21:49, 829.35s/it]"
     ]
    },
    {
     "name": "stdout",
     "output_type": "stream",
     "text": [
      "Epoch 0. Validation Loss: 149.8215503692627\n",
      "Saving best model at epoch 0 with train loss 5066.390064954758 and val loss 149.8215503692627\n",
      "Epoch 1, Iteration 0, Loss: 5.1404619216918945\n",
      "Epoch 1, Iteration 50, Loss: 5.031835556030273\n",
      "Epoch 1, Iteration 100, Loss: 4.643860816955566\n",
      "Epoch 1, Iteration 150, Loss: 3.814626455307007\n",
      "Epoch 1, Iteration 200, Loss: 3.7939388751983643\n",
      "Epoch 1, Iteration 250, Loss: 6.057929992675781\n",
      "Epoch 1, Iteration 300, Loss: 4.022104263305664\n",
      "Epoch 1, Iteration 350, Loss: 8.061417579650879\n",
      "Epoch 1, Iteration 400, Loss: 3.4343454837799072\n",
      "Epoch 1, Iteration 450, Loss: 4.100040435791016\n",
      "Epoch 1 time: 741.4748223898932. Loss: 2754.5302896499634\n"
     ]
    },
    {
     "name": "stderr",
     "output_type": "stream",
     "text": [
      "  1%|          | 2/250 [26:40<54:46:13, 795.05s/it]"
     ]
    },
    {
     "name": "stdout",
     "output_type": "stream",
     "text": [
      "Epoch 1. Validation Loss: 144.13898611068726\n",
      "Epoch 2, Iteration 0, Loss: 3.574131965637207\n",
      "Epoch 2, Iteration 50, Loss: 8.17702865600586\n",
      "Epoch 2, Iteration 100, Loss: 4.490779876708984\n",
      "Epoch 2, Iteration 150, Loss: 5.974474906921387\n",
      "Epoch 2, Iteration 200, Loss: 6.336108207702637\n",
      "Epoch 2, Iteration 250, Loss: 4.112310409545898\n",
      "Epoch 2, Iteration 300, Loss: 2.5974109172821045\n",
      "Epoch 2, Iteration 350, Loss: 4.099551677703857\n",
      "Epoch 2, Iteration 400, Loss: 4.551474094390869\n",
      "Epoch 2, Iteration 450, Loss: 3.570673942565918\n",
      "Epoch 2 time: 694.6323535358533. Loss: 2565.331024646759\n"
     ]
    },
    {
     "name": "stderr",
     "output_type": "stream",
     "text": [
      "  1%|          | 3/250 [38:45<52:20:54, 762.97s/it]"
     ]
    },
    {
     "name": "stdout",
     "output_type": "stream",
     "text": [
      "Epoch 2. Validation Loss: 141.9774887561798\n",
      "Epoch 3, Iteration 0, Loss: 3.2578046321868896\n",
      "Epoch 3, Iteration 50, Loss: 3.2673726081848145\n",
      "Epoch 3, Iteration 100, Loss: 5.72703218460083\n",
      "Epoch 3, Iteration 150, Loss: 4.8227667808532715\n",
      "Epoch 3, Iteration 200, Loss: 9.535709381103516\n",
      "Epoch 3, Iteration 250, Loss: 4.409391403198242\n",
      "Epoch 3, Iteration 300, Loss: 7.079326629638672\n",
      "Epoch 3, Iteration 350, Loss: 9.625666618347168\n",
      "Epoch 3, Iteration 400, Loss: 3.3282406330108643\n"
     ]
    },
    {
     "name": "stderr",
     "output_type": "stream",
     "text": [
      "  1%|          | 3/250 [48:31<66:34:46, 970.39s/it]\n"
     ]
    },
    {
     "ename": "KeyboardInterrupt",
     "evalue": "",
     "output_type": "error",
     "traceback": [
      "\u001b[0;31m---------------------------------------------------------------------------\u001b[0m",
      "\u001b[0;31mKeyboardInterrupt\u001b[0m                         Traceback (most recent call last)",
      "Cell \u001b[0;32mIn[9], line 24\u001b[0m\n\u001b[1;32m     19\u001b[0m output \u001b[38;5;241m=\u001b[39m decoder(features[:, indices, :])\n\u001b[1;32m     20\u001b[0m \u001b[38;5;66;03m# print(f\"Time taken for decoder model: {time.perf_counter() - t1}\")\u001b[39;00m\n\u001b[1;32m     21\u001b[0m \n\u001b[1;32m     22\u001b[0m \u001b[38;5;66;03m# t1 = time.perf_counter()\u001b[39;00m\n\u001b[1;32m     23\u001b[0m \u001b[38;5;66;03m# loss = chamfer_loss(output, points.cpu().numpy(), indices, nnbrs, device)\u001b[39;00m\n\u001b[0;32m---> 24\u001b[0m loss \u001b[38;5;241m=\u001b[39m \u001b[43mchamfer_loss\u001b[49m\u001b[43m(\u001b[49m\u001b[43moutput\u001b[49m\u001b[43m,\u001b[49m\u001b[43m \u001b[49m\u001b[43mpoints\u001b[49m\u001b[43m,\u001b[49m\u001b[43m \u001b[49m\u001b[43mindices\u001b[49m\u001b[43m,\u001b[49m\u001b[43m \u001b[49m\u001b[43mnearest_neighbors\u001b[49m\u001b[43m,\u001b[49m\u001b[43m \u001b[49m\u001b[43mdevice\u001b[49m\u001b[43m)\u001b[49m\n\u001b[1;32m     25\u001b[0m \u001b[38;5;66;03m# print(f\"Time taken for loss calc: {time.perf_counter() - t1}\")\u001b[39;00m\n\u001b[1;32m     26\u001b[0m \n\u001b[1;32m     27\u001b[0m \u001b[38;5;66;03m# t1 = time.perf_counter()\u001b[39;00m\n\u001b[1;32m     28\u001b[0m loss\u001b[38;5;241m.\u001b[39mbackward()\n",
      "File \u001b[0;32m~/pivot_robots/utils.py:132\u001b[0m, in \u001b[0;36mchamfer_loss\u001b[0;34m(D_f_p, points, point_indices, nnbrs, device)\u001b[0m\n\u001b[1;32m    130\u001b[0m receptive_fields_list \u001b[38;5;241m=\u001b[39m []\n\u001b[1;32m    131\u001b[0m \u001b[38;5;28;01mfor\u001b[39;00m p_idx \u001b[38;5;129;01min\u001b[39;00m point_indices:\n\u001b[0;32m--> 132\u001b[0m     R_p \u001b[38;5;241m=\u001b[39m \u001b[43mcompute_receptive_fields\u001b[49m\u001b[43m(\u001b[49m\u001b[43mP\u001b[49m\u001b[43m,\u001b[49m\u001b[43m \u001b[49m\u001b[43mp_idx\u001b[49m\u001b[43m,\u001b[49m\u001b[43m \u001b[49m\u001b[43mnnbrs\u001b[49m\u001b[43m[\u001b[49m\u001b[43mi\u001b[49m\u001b[43m]\u001b[49m\u001b[43m)\u001b[49m\n\u001b[1;32m    133\u001b[0m     receptive_fields_list\u001b[38;5;241m.\u001b[39mappend(R_p)\n\u001b[1;32m    135\u001b[0m \u001b[38;5;66;03m# Compute the Chamfer distance for each receptive field\u001b[39;00m\n",
      "File \u001b[0;32m~/pivot_robots/utils.py:99\u001b[0m, in \u001b[0;36mcompute_receptive_fields\u001b[0;34m(data, p, nnbrs, L)\u001b[0m\n\u001b[1;32m     95\u001b[0m knn_l \u001b[38;5;241m=\u001b[39m \u001b[38;5;28mset\u001b[39m(knn_i) \u001b[38;5;66;03m# union of all knn_i\u001b[39;00m\n\u001b[1;32m     96\u001b[0m \u001b[38;5;28;01mfor\u001b[39;00m _ \u001b[38;5;129;01min\u001b[39;00m \u001b[38;5;28mrange\u001b[39m(hops):\n\u001b[1;32m     97\u001b[0m     \u001b[38;5;66;03m# next_points = set()\u001b[39;00m\n\u001b[1;32m     98\u001b[0m     \u001b[38;5;66;03m# hop_indices = nnbrs[list(knn_i)].flatten()\u001b[39;00m\n\u001b[0;32m---> 99\u001b[0m     hop_indices \u001b[38;5;241m=\u001b[39m \u001b[43mnnbrs\u001b[49m\u001b[43m[\u001b[49m\u001b[38;5;28;43mlist\u001b[39;49m\u001b[43m(\u001b[49m\u001b[43mknn_i\u001b[49m\u001b[43m)\u001b[49m\u001b[43m]\u001b[49m\u001b[38;5;241;43m.\u001b[39;49m\u001b[43mflatten\u001b[49m\u001b[43m(\u001b[49m\u001b[43m)\u001b[49m\u001b[38;5;241m.\u001b[39mcpu()\u001b[38;5;241m.\u001b[39mnumpy()\n\u001b[1;32m    100\u001b[0m     \u001b[38;5;66;03m# for idx in knn_i:\u001b[39;00m\n\u001b[1;32m    101\u001b[0m     \u001b[38;5;66;03m#     _, hop_indices = nnbrs.kneighbors([data[idx]])\u001b[39;00m\n\u001b[1;32m    102\u001b[0m     \u001b[38;5;66;03m#     next_points.update(hop_indices.flatten())\u001b[39;00m\n\u001b[1;32m    104\u001b[0m     knn_l\u001b[38;5;241m.\u001b[39mupdate(hop_indices)\n",
      "\u001b[0;31mKeyboardInterrupt\u001b[0m: "
     ]
    }
   ],
   "source": [
    "teacher.train()\n",
    "print(\"Training teacher model\")\n",
    "teacher_train_losses = []\n",
    "teacher_val_losses = []\n",
    "for epoch in tqdm(range(n_teacher_epochs)):\n",
    "    batch_loop = time.perf_counter()\n",
    "    total_loss = 0.0\n",
    "    for i, (points, nearest_neighbors) in enumerate(mn10_train_loader):\n",
    "        # t1 = time.perf_counter()\n",
    "        \n",
    "        # features = torch.zeros(64000, 64) # n points, dimension 64; TODO: should I reinitialize for every point cloud?\n",
    "        teacher_optimizer.zero_grad()\n",
    "        features = teacher(points.to(device), torch.zeros(points.shape[0], n_points, 64).to(device), nearest_neighbors.to(device))\n",
    "        # print(f\"Time taken for teacher model: {time.perf_counter() - t1}\")\n",
    "        \n",
    "        # indices = np.random.choice(features.shape[1], 16)\n",
    "        indices = torch.randint(0, features.shape[1], (16,))\n",
    "        # t1 = time.perf_counter()\n",
    "        output = decoder(features[:, indices, :])\n",
    "        # print(f\"Time taken for decoder model: {time.perf_counter() - t1}\")\n",
    "        \n",
    "        # t1 = time.perf_counter()\n",
    "        # loss = chamfer_loss(output, points.cpu().numpy(), indices, nnbrs, device)\n",
    "        loss = chamfer_loss(output, points, indices, nearest_neighbors, device)\n",
    "        # print(f\"Time taken for loss calc: {time.perf_counter() - t1}\")\n",
    "        \n",
    "        # t1 = time.perf_counter()\n",
    "        loss.backward()\n",
    "        # print(f\"Time taken for loss backprop: {time.perf_counter() - t1}\")\n",
    "        total_loss += loss.item()\n",
    "        teacher_optimizer.step()\n",
    "    \n",
    "        # print(f\"Time taken for single element: {time.perf_counter() - t1}\")\n",
    "        if i % 50 == 0:\n",
    "            print(f\"Epoch {epoch}, Iteration {i}, Loss: {loss.item()}\")\n",
    "            \n",
    "    print(f\"Epoch {epoch} time: {time.perf_counter() - batch_loop}. Loss: {total_loss}\")\n",
    "    teacher_train_losses.append(total_loss)\n",
    "\n",
    "    # Validation\n",
    "    with torch.no_grad():\n",
    "        val_loss = 0.0\n",
    "        for points, nearest_neighbors in mn10_val_loader:\n",
    "            features = teacher(points.to(device), torch.zeros(points.shape[0], n_points, 64).to(device), nearest_neighbors.to(device))\n",
    "            indices = torch.randint(0, features.shape[1], (16,))\n",
    "            output = decoder(features[:, indices, :])\n",
    "            loss = chamfer_loss(output, points, indices, nearest_neighbors, device)\n",
    "            val_loss += loss.item()\n",
    "\n",
    "        print(f\"Epoch {epoch}. Validation Loss: {val_loss}\")\n",
    "\n",
    "    # save best model\n",
    "    if epoch == 0 or val_loss < min(teacher_val_losses):\n",
    "        print(f\"Saving best model at epoch {epoch} with train loss {total_loss} and val loss {val_loss}\")\n",
    "        torch.save(teacher.state_dict(), 'models/teacher_best.pth')\n",
    "        torch.save(decoder.state_dict(), 'models/decoder_best.pth')\n",
    "        \n",
    "    teacher_val_losses.append(val_loss)"
   ]
  },
  {
   "cell_type": "code",
   "execution_count": 8,
   "metadata": {},
   "outputs": [
    {
     "data": {
      "image/png": "[encoded data removed]",
      "text/plain": [
       "<Figure size 640x480 with 1 Axes>"
      ]
     },
     "metadata": {},
     "output_type": "display_data"
    }
   ],
   "source": [
    "# plot loss curve\n",
    "plt.plot(teacher_train_losses)\n",
    "plt.xlabel(\"Epoch\")\n",
    "plt.ylabel(\"Loss\")\n",
    "plt.title(\"Teacher Model Loss\")\n",
    "plt.show()\n",
    "\n",
    "# plot val curve\n",
    "plt.plot(teacher_val_losses)\n",
    "plt.xlabel(\"Epoch\")\n",
    "plt.ylabel(\"Loss\")\n",
    "plt.title(\"Teacher Model Validation Loss\")\n",
    "plt.show()\n",
    "            \n",
    "torch.save(teacher.state_dict(), 'models/teacher_final.pth')\n",
    "torch.save(decoder.state_dict(), 'models/decoder_final.pth')"
   ]
  },
  {
   "cell_type": "code",
   "execution_count": 3,
   "metadata": {},
   "outputs": [],
   "source": [
    "teacher = Model(k=k).to(device)\n",
    "teacher.load_state_dict(torch.load('models/teacher.pth', map_location=device))\n",
    "\n",
    "mvtec_train_data = np.load('data/mvtec_train_point_clouds.npy')\n",
    "\n",
    "mvtec_train_dataset = ADDataset(mvtec_train_data[:500], k=k)\n",
    "mvtec_train_loader = DataLoader(mvtec_train_dataset, batch_size=1, shuffle=True, collate_fn=custom_collate_fn)\n",
    "\n",
    "mvtec_train_tmp = DataLoader(mvtec_train_dataset, batch_size=len(mvtec_train_dataset), shuffle=True, collate_fn=custom_collate_fn)\n",
    "\n",
    "# Initialize student model with random weights    \n",
    "student = Model(k=k, is_student=True).to(device)\n",
    "student_optimizer = torch.optim.Adam(student.parameters(), lr=1e-3, weight_decay=1e-5)\n",
    "\n",
    "n_student_epochs = 5 # 100\n",
    "teacher.eval()\n",
    "for param in teacher.parameters():\n",
    "    param.requires_grad = False"
   ]
  },
  {
   "cell_type": "code",
   "execution_count": 4,
   "metadata": {},
   "outputs": [],
   "source": [
    "for i, (points, nearest_neighbors, nnbrs) in enumerate(mvtec_train_tmp):\n",
    "    mean, std = get_teacher_features_distr(teacher, points.to(device), nearest_neighbors.to(device), device)"
   ]
  },
  {
   "cell_type": "code",
   "execution_count": 7,
   "metadata": {
    "scrolled": true
   },
   "outputs": [
    {
     "name": "stdout",
     "output_type": "stream",
     "text": [
      "Training student model\n"
     ]
    },
    {
     "name": "stderr",
     "output_type": "stream",
     "text": [
      "  0%|          | 0/5 [00:00<?, ?it/s]"
     ]
    },
    {
     "name": "stdout",
     "output_type": "stream",
     "text": [
      "Epoch 0, Iteration 0, Loss: 1.0713168382644653\n",
      "Epoch 0, Iteration 50, Loss: 0.8883275389671326\n",
      "Epoch 0, Iteration 100, Loss: 0.8907670974731445\n",
      "Epoch 0, Iteration 150, Loss: 0.9695898294448853\n",
      "Epoch 0, Iteration 200, Loss: 0.21617229282855988\n",
      "Epoch 0, Iteration 250, Loss: 0.137253999710083\n",
      "Epoch 0, Iteration 300, Loss: 0.025900105014443398\n",
      "Epoch 0, Iteration 350, Loss: 0.014516963623464108\n",
      "Epoch 0, Iteration 400, Loss: 0.01521553285419941\n",
      "Epoch 0, Iteration 450, Loss: 0.016783002763986588\n"
     ]
    },
    {
     "name": "stderr",
     "output_type": "stream",
     "text": [
      " 20%|██        | 1/5 [02:02<08:11, 122.98s/it]"
     ]
    },
    {
     "name": "stdout",
     "output_type": "stream",
     "text": [
      "Epoch 0 time: 122.98250120971352. Loss: 194.24458860140294\n",
      "Epoch 1, Iteration 0, Loss: 0.015537634491920471\n",
      "Epoch 1, Iteration 50, Loss: 0.015950476750731468\n",
      "Epoch 1, Iteration 100, Loss: 0.01374740432947874\n",
      "Epoch 1, Iteration 150, Loss: 0.01349396351724863\n",
      "Epoch 1, Iteration 200, Loss: 0.01798832044005394\n",
      "Epoch 1, Iteration 250, Loss: 0.012968858703970909\n",
      "Epoch 1, Iteration 300, Loss: 0.021558750420808792\n",
      "Epoch 1, Iteration 350, Loss: 0.013077993877232075\n",
      "Epoch 1, Iteration 400, Loss: 0.013622811064124107\n",
      "Epoch 1, Iteration 450, Loss: 0.015153760090470314\n"
     ]
    },
    {
     "name": "stderr",
     "output_type": "stream",
     "text": [
      " 40%|████      | 2/5 [03:59<05:57, 119.17s/it]"
     ]
    },
    {
     "name": "stdout",
     "output_type": "stream",
     "text": [
      "Epoch 1 time: 116.49661542288959. Loss: 8.853723396547139\n",
      "Epoch 2, Iteration 0, Loss: 0.025279466062784195\n",
      "Epoch 2, Iteration 50, Loss: 0.011771528981626034\n",
      "Epoch 2, Iteration 100, Loss: 0.015271623618900776\n",
      "Epoch 2, Iteration 150, Loss: 0.01228354498744011\n",
      "Epoch 2, Iteration 200, Loss: 0.0193722415715456\n",
      "Epoch 2, Iteration 250, Loss: 0.01946205645799637\n",
      "Epoch 2, Iteration 300, Loss: 0.0185317974537611\n",
      "Epoch 2, Iteration 350, Loss: 0.019211996346712112\n",
      "Epoch 2, Iteration 400, Loss: 0.014199523255228996\n",
      "Epoch 2, Iteration 450, Loss: 0.017729368060827255\n"
     ]
    },
    {
     "name": "stderr",
     "output_type": "stream",
     "text": [
      " 60%|██████    | 3/5 [05:56<03:56, 118.35s/it]"
     ]
    },
    {
     "name": "stdout",
     "output_type": "stream",
     "text": [
      "Epoch 2 time: 117.37809835281223. Loss: 9.098804865032434\n",
      "Epoch 3, Iteration 0, Loss: 0.016619889065623283\n",
      "Epoch 3, Iteration 50, Loss: 0.021256152540445328\n",
      "Epoch 3, Iteration 100, Loss: 0.013261668384075165\n",
      "Epoch 3, Iteration 150, Loss: 0.01241119671612978\n",
      "Epoch 3, Iteration 200, Loss: 0.013096196576952934\n",
      "Epoch 3, Iteration 250, Loss: 0.02687671221792698\n",
      "Epoch 3, Iteration 300, Loss: 0.01836421713232994\n",
      "Epoch 3, Iteration 350, Loss: 0.018062885850667953\n",
      "Epoch 3, Iteration 400, Loss: 0.02153795026242733\n",
      "Epoch 3, Iteration 450, Loss: 0.027383780106902122\n"
     ]
    },
    {
     "name": "stderr",
     "output_type": "stream",
     "text": [
      " 80%|████████  | 4/5 [07:56<01:58, 118.74s/it]"
     ]
    },
    {
     "name": "stdout",
     "output_type": "stream",
     "text": [
      "Epoch 3 time: 119.32440627552569. Loss: 8.818964829668403\n",
      "Epoch 4, Iteration 0, Loss: 0.030171288177371025\n",
      "Epoch 4, Iteration 50, Loss: 0.0206740889698267\n",
      "Epoch 4, Iteration 100, Loss: 0.023983409628272057\n",
      "Epoch 4, Iteration 150, Loss: 0.015053866431117058\n",
      "Epoch 4, Iteration 200, Loss: 0.015089497901499271\n",
      "Epoch 4, Iteration 250, Loss: 0.01355070248246193\n",
      "Epoch 4, Iteration 300, Loss: 0.012478817254304886\n",
      "Epoch 4, Iteration 350, Loss: 0.016562506556510925\n",
      "Epoch 4, Iteration 400, Loss: 0.019048186019062996\n",
      "Epoch 4, Iteration 450, Loss: 0.019600508734583855\n"
     ]
    },
    {
     "name": "stderr",
     "output_type": "stream",
     "text": [
      "100%|██████████| 5/5 [09:52<00:00, 118.55s/it]"
     ]
    },
    {
     "name": "stdout",
     "output_type": "stream",
     "text": [
      "Epoch 4 time: 116.57468711771071. Loss: 8.782429069280624\n"
     ]
    },
    {
     "name": "stderr",
     "output_type": "stream",
     "text": [
      "\n"
     ]
    }
   ],
   "source": [
    "# criterion = nn.MSELoss()\n",
    "student.train()\n",
    "print(\"Training student model\")\n",
    "student_losses = []\n",
    "for epoch in tqdm(range(n_student_epochs)):\n",
    "    batch_loop = time.perf_counter()\n",
    "    total_loss = 0.0\n",
    "    for i, (points, nearest_neighbors, nnbrs) in enumerate(mvtec_train_loader):\n",
    "        # f_S = torch.zeros(64000, 64) # TODO: reinit the student model?\n",
    "        student_optimizer.zero_grad()\n",
    "        with torch.no_grad():\n",
    "            f_T = teacher(points.to(device), torch.zeros(points.shape[0], n_points, 64).to(device), nearest_neighbors.to(device))\n",
    "        \n",
    "        f_S = student(points.to(device), torch.zeros(points.shape[0], n_points, 64).to(device), nearest_neighbors.to(device))\n",
    "        \n",
    "        loss = normalized_mse_loss(f_S, f_T, mean.to(device), std.to(device))\n",
    "        # loss = criterion(f_S, f_T)\n",
    "        loss.backward()\n",
    "        total_loss += loss.item()\n",
    "        student_optimizer.step()\n",
    "        \n",
    "        if i % 50 == 0:\n",
    "            print(f\"Epoch {epoch}, Iteration {i}, Loss: {loss.item()}\")\n",
    "\n",
    "    print(f\"Epoch {epoch} time: {time.perf_counter() - batch_loop}. Loss: {total_loss}\")\n",
    "    student_losses.append(loss.item())\n",
    "        "
   ]
  },
  {
   "cell_type": "code",
   "execution_count": 8,
   "metadata": {},
   "outputs": [
    {
     "data": {
      "image/png": "[encoded data removed]",
      "text/plain": [
       "<Figure size 640x480 with 1 Axes>"
      ]
     },
     "metadata": {},
     "output_type": "display_data"
    }
   ],
   "source": [
    "plt.plot(student_losses)\n",
    "plt.xlabel(\"Epoch\")\n",
    "plt.ylabel(\"Loss\")\n",
    "plt.title(\"Student Model Loss\")\n",
    "plt.show()\n",
    "\n",
    "torch.save(student.state_dict(), 'models/student.pth')"
   ]
  },
  {
   "cell_type": "code",
   "execution_count": null,
   "metadata": {},
   "outputs": [],
   "source": []
  }
 ],
 "metadata": {
  "kernelspec": {
   "display_name": "Python 3 (ipykernel)",
   "language": "python",
   "name": "python3"
  },
  "language_info": {
   "codemirror_mode": {
    "name": "ipython",
    "version": 3
   },
   "file_extension": ".py",
   "mimetype": "text/x-python",
   "name": "python",
   "nbconvert_exporter": "python",
   "pygments_lexer": "ipython3",
   "version": "3.11.6"
  }
 },
 "nbformat": 4,
 "nbformat_minor": 4
}
